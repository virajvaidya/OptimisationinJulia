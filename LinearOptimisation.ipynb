{
  "nbformat": 4,
  "nbformat_minor": 0,
  "metadata": {
    "colab": {
      "name": "LinearOptimisation.ipynb",
      "provenance": [],
      "collapsed_sections": []
    },
    "kernelspec": {
      "display_name": "Julia",
      "language": "julia",
      "name": "julia"
    },
    "language_info": {
      "file_extension": ".jl",
      "mimetype": "application/julia",
      "name": "julia"
    }
  },
  "cells": [
    {
      "cell_type": "code",
      "metadata": {
        "id": "GIeFXS0F0zww"
      },
      "source": [
        "%%shell\n",
        "set -e\n",
        "\n",
        "#---------------------------------------------------#\n",
        "JULIA_VERSION=\"1.6.0\" # any version ≥ 0.7.0\n",
        "JULIA_PACKAGES=\"IJulia BenchmarkTools Plots\"\n",
        "JULIA_PACKAGES_IF_GPU=\"CUDA\" # or CuArrays for older Julia versions\n",
        "JULIA_NUM_THREADS=2\n",
        "#---------------------------------------------------#\n",
        "\n",
        "if [ -n \"$COLAB_GPU\" ] && [ -z `which julia` ]; then\n",
        "  # Install Julia\n",
        "  JULIA_VER=`cut -d '.' -f -2 <<< \"$JULIA_VERSION\"`\n",
        "  echo \"Installing Julia $JULIA_VERSION on the current Colab Runtime...\"\n",
        "  BASE_URL=\"https://julialang-s3.julialang.org/bin/linux/x64\"\n",
        "  URL=\"$BASE_URL/$JULIA_VER/julia-$JULIA_VERSION-linux-x86_64.tar.gz\"\n",
        "  wget -nv $URL -O /tmp/julia.tar.gz # -nv means \"not verbose\"\n",
        "  tar -x -f /tmp/julia.tar.gz -C /usr/local --strip-components 1\n",
        "  rm /tmp/julia.tar.gz\n",
        "\n",
        "  # Install Packages\n",
        "  if [ \"$COLAB_GPU\" = \"1\" ]; then\n",
        "      JULIA_PACKAGES=\"$JULIA_PACKAGES $JULIA_PACKAGES_IF_GPU\"\n",
        "  fi\n",
        "  for PKG in `echo $JULIA_PACKAGES`; do\n",
        "    echo \"Installing Julia package $PKG...\"\n",
        "    julia -e 'using Pkg; pkg\"add '$PKG'; precompile;\"' &> /dev/null\n",
        "  done\n",
        "\n",
        "  # Install kernel and rename it to \"julia\"\n",
        "  echo \"Installing IJulia kernel...\"\n",
        "  julia -e 'using IJulia; IJulia.installkernel(\"julia\", env=Dict(\n",
        "      \"JULIA_NUM_THREADS\"=>\"'\"$JULIA_NUM_THREADS\"'\"))'\n",
        "  KERNEL_DIR=`julia -e \"using IJulia; print(IJulia.kerneldir())\"`\n",
        "  KERNEL_NAME=`ls -d \"$KERNEL_DIR\"/julia*`\n",
        "  mv -f $KERNEL_NAME \"$KERNEL_DIR\"/julia  \n",
        "\n",
        "  echo ''\n",
        "  echo \"Success! Please reload this page and jump to the next section.\"\n",
        "fi"
      ],
      "execution_count": null,
      "outputs": []
    },
    {
      "cell_type": "markdown",
      "metadata": {
        "id": "-OS3Ac017T1i"
      },
      "source": [
        "# Checking the Installation\n",
        "The `versioninfo()` function should print your Julia version and some other info about the system:"
      ]
    },
    {
      "cell_type": "code",
      "metadata": {
        "id": "EEzvvzCl1i0F",
        "outputId": "4c937393-86f8-48cc-a989-2db2dd5b1620",
        "colab": {
          "base_uri": "https://localhost:8080/"
        }
      },
      "source": [
        "versioninfo()"
      ],
      "execution_count": null,
      "outputs": [
        {
          "output_type": "stream",
          "name": "stdout",
          "text": [
            "Julia Version 1.6.0\n",
            "Commit f9720dc2eb (2021-03-24 12:55 UTC)\n",
            "Platform Info:\n",
            "  OS: Linux (x86_64-pc-linux-gnu)\n",
            "  CPU: AMD EPYC 7B12\n",
            "  WORD_SIZE: 64\n",
            "  LIBM: libopenlibm\n",
            "  LLVM: libLLVM-11.0.1 (ORCJIT, znver2)\n",
            "Environment:\n",
            "  JULIA_NUM_THREADS = 2\n"
          ]
        }
      ]
    },
    {
      "cell_type": "code",
      "metadata": {
        "id": "yQlpeR9wNOi8",
        "outputId": "15863da8-c833-42f4-a462-1f9582aefdfb",
        "colab": {
          "base_uri": "https://localhost:8080/"
        }
      },
      "source": [
        "using BenchmarkTools\n",
        "\n",
        "M = rand(2048, 2048)\n",
        "@benchmark M^2"
      ],
      "execution_count": null,
      "outputs": [
        {
          "output_type": "execute_result",
          "data": {
            "text/plain": [
              "BenchmarkTools.Trial: 12 samples with 1 evaluation.\n",
              " Range \u001b[90m(\u001b[39m\u001b[36m\u001b[1mmin\u001b[22m\u001b[39m … \u001b[35mmax\u001b[39m\u001b[90m):  \u001b[39m\u001b[36m\u001b[1m403.438 ms\u001b[22m\u001b[39m … \u001b[35m496.455 ms\u001b[39m  \u001b[90m┊\u001b[39m GC \u001b[90m(\u001b[39mmin … max\u001b[90m): \u001b[39m0.00% … 17.67%\n",
              " Time  \u001b[90m(\u001b[39m\u001b[34m\u001b[1mmedian\u001b[22m\u001b[39m\u001b[90m):     \u001b[39m\u001b[34m\u001b[1m421.876 ms               \u001b[22m\u001b[39m\u001b[90m┊\u001b[39m GC \u001b[90m(\u001b[39mmedian\u001b[90m):    \u001b[39m0.06%\n",
              " Time  \u001b[90m(\u001b[39m\u001b[32m\u001b[1mmean\u001b[22m\u001b[39m ± \u001b[32mσ\u001b[39m\u001b[90m):   \u001b[39m\u001b[32m\u001b[1m428.216 ms\u001b[22m\u001b[39m ± \u001b[32m 28.366 ms\u001b[39m  \u001b[90m┊\u001b[39m GC \u001b[90m(\u001b[39mmean ± σ\u001b[90m):  \u001b[39m3.39% ±  6.16%\n",
              "\n",
              "  \u001b[39m█\u001b[39m█\u001b[39m█\u001b[39m█\u001b[39m \u001b[39m \u001b[39m \u001b[39m \u001b[39m \u001b[39m█\u001b[39m \u001b[39m█\u001b[34m█\u001b[39m\u001b[39m█\u001b[39m█\u001b[39m \u001b[32m \u001b[39m\u001b[39m█\u001b[39m \u001b[39m \u001b[39m \u001b[39m \u001b[39m \u001b[39m \u001b[39m \u001b[39m \u001b[39m \u001b[39m \u001b[39m \u001b[39m \u001b[39m \u001b[39m \u001b[39m \u001b[39m \u001b[39m \u001b[39m \u001b[39m \u001b[39m \u001b[39m \u001b[39m \u001b[39m \u001b[39m \u001b[39m \u001b[39m \u001b[39m \u001b[39m \u001b[39m█\u001b[39m \u001b[39m \u001b[39m \u001b[39m \u001b[39m \u001b[39m \u001b[39m \u001b[39m \u001b[39m \u001b[39m \u001b[39m \u001b[39m \u001b[39m \u001b[39m█\u001b[39m \u001b[39m \n",
              "  \u001b[39m█\u001b[39m█\u001b[39m█\u001b[39m█\u001b[39m▁\u001b[39m▁\u001b[39m▁\u001b[39m▁\u001b[39m▁\u001b[39m█\u001b[39m▁\u001b[39m█\u001b[34m█\u001b[39m\u001b[39m█\u001b[39m█\u001b[39m▁\u001b[32m▁\u001b[39m\u001b[39m█\u001b[39m▁\u001b[39m▁\u001b[39m▁\u001b[39m▁\u001b[39m▁\u001b[39m▁\u001b[39m▁\u001b[39m▁\u001b[39m▁\u001b[39m▁\u001b[39m▁\u001b[39m▁\u001b[39m▁\u001b[39m▁\u001b[39m▁\u001b[39m▁\u001b[39m▁\u001b[39m▁\u001b[39m▁\u001b[39m▁\u001b[39m▁\u001b[39m▁\u001b[39m▁\u001b[39m▁\u001b[39m▁\u001b[39m▁\u001b[39m▁\u001b[39m▁\u001b[39m█\u001b[39m▁\u001b[39m▁\u001b[39m▁\u001b[39m▁\u001b[39m▁\u001b[39m▁\u001b[39m▁\u001b[39m▁\u001b[39m▁\u001b[39m▁\u001b[39m▁\u001b[39m▁\u001b[39m▁\u001b[39m█\u001b[39m \u001b[39m▁\n",
              "  403 ms\u001b[90m           Histogram: frequency by time\u001b[39m          496 ms \u001b[0m\u001b[1m<\u001b[22m\n",
              "\n",
              " Memory estimate\u001b[90m: \u001b[39m\u001b[33m32.00 MiB\u001b[39m, allocs estimate\u001b[90m: \u001b[39m\u001b[33m2\u001b[39m."
            ]
          },
          "metadata": {},
          "execution_count": 2
        }
      ]
    },
    {
      "cell_type": "code",
      "metadata": {
        "id": "XciCcMAJOT3_",
        "outputId": "aef12103-c9af-430b-a679-31ea85671c90",
        "colab": {
          "base_uri": "https://localhost:8080/"
        }
      },
      "source": [
        "if ENV[\"COLAB_GPU\"] == \"1\"\n",
        "    using CUDA\n",
        "\n",
        "    M_gpu = cu(M)\n",
        "    @benchmark CUDA.@sync M_gpu^2\n",
        "else\n",
        "    println(\"No GPU found.\")\n",
        "end"
      ],
      "execution_count": null,
      "outputs": [
        {
          "output_type": "stream",
          "name": "stdout",
          "text": [
            "No GPU found.\n"
          ]
        }
      ]
    },
    {
      "cell_type": "code",
      "source": [
        "function estimate_pi(n)\n",
        "    s = 1.0\n",
        "    for i in 1:n\n",
        "        s += (isodd(i) ? -1 : 1) / (2i + 1)\n",
        "    end\n",
        "    4s\n",
        "end\n",
        "\n",
        "p = estimate_pi(100_000_000)\n",
        "println(\"π ≈ $p\")\n",
        "println(\"Error is $(p - π)\")"
      ],
      "metadata": {
        "id": "44DR_McHOXM5",
        "outputId": "b993305a-79b2-467f-f6c0-d9c0020838fa",
        "colab": {
          "base_uri": "https://localhost:8080/"
        }
      },
      "execution_count": null,
      "outputs": [
        {
          "output_type": "stream",
          "name": "stdout",
          "text": [
            "π ≈ 3.141592663589326\n",
            "Error is 9.999532757376528e-9\n"
          ]
        }
      ]
    },
    {
      "cell_type": "code",
      "source": [
        "using Pkg"
      ],
      "metadata": {
        "id": "uaIwBgwVO0ZL"
      },
      "execution_count": null,
      "outputs": []
    },
    {
      "cell_type": "code",
      "source": [
        "Packages =[\"Plots\", \"StatsBase\", \"StatsModels\",\"GLPK\",\"DataFrames\",\"JuMP\",\"MathOptInterface\",\"Turing\"]"
      ],
      "metadata": {
        "id": "eCHvSR9JO2Ze",
        "outputId": "252eb2b4-1c75-43b0-da5f-ad9a0847ec24",
        "colab": {
          "base_uri": "https://localhost:8080/"
        }
      },
      "execution_count": null,
      "outputs": [
        {
          "output_type": "execute_result",
          "data": {
            "text/plain": [
              "8-element Vector{String}:\n",
              " \"Plots\"\n",
              " \"StatsBase\"\n",
              " \"StatsModels\"\n",
              " \"GLPK\"\n",
              " \"DataFrames\"\n",
              " \"JuMP\"\n",
              " \"MathOptInterface\"\n",
              " \"Turing\""
            ]
          },
          "metadata": {},
          "execution_count": 18
        }
      ]
    },
    {
      "cell_type": "code",
      "source": [
        "Pkg.add(Packages)"
      ],
      "metadata": {
        "id": "BIYGZFrdPfPe",
        "outputId": "1f50b7e8-0ba5-44cf-d1a4-203cb6713d68",
        "colab": {
          "base_uri": "https://localhost:8080/"
        }
      },
      "execution_count": null,
      "outputs": [
        {
          "output_type": "stream",
          "name": "stderr",
          "text": [
            "\u001b[32m\u001b[1m   Resolving\u001b[22m\u001b[39m package versions...\n",
            "\u001b[32m\u001b[1m   Installed\u001b[22m\u001b[39m GLPK_jll ─────── v5.0.1+0\n",
            "\u001b[32m\u001b[1m   Installed\u001b[22m\u001b[39m GLPK ─────────── v0.15.2\n",
            "\u001b[32m\u001b[1m   Installed\u001b[22m\u001b[39m CEnum ────────── v0.4.1\n",
            "\u001b[32m\u001b[1m   Installed\u001b[22m\u001b[39m BinaryProvider ─ v0.5.10\n",
            "\u001b[32m\u001b[1m    Updating\u001b[22m\u001b[39m `~/.julia/environments/v1.6/Project.toml`\n",
            " \u001b[90m [60bf3e95] \u001b[39m\u001b[92m+ GLPK v0.15.2\u001b[39m\n",
            "\u001b[32m\u001b[1m    Updating\u001b[22m\u001b[39m `~/.julia/environments/v1.6/Manifest.toml`\n",
            " \u001b[90m [b99e7846] \u001b[39m\u001b[92m+ BinaryProvider v0.5.10\u001b[39m\n",
            " \u001b[90m [fa961155] \u001b[39m\u001b[92m+ CEnum v0.4.1\u001b[39m\n",
            " \u001b[90m [60bf3e95] \u001b[39m\u001b[92m+ GLPK v0.15.2\u001b[39m\n",
            " \u001b[90m [e8aa6df9] \u001b[39m\u001b[92m+ GLPK_jll v5.0.1+0\u001b[39m\n",
            " \u001b[90m [781609d7] \u001b[39m\u001b[92m+ GMP_jll\u001b[39m\n",
            "\u001b[32m\u001b[1m    Building\u001b[22m\u001b[39m GLPK → `~/.julia/scratchspaces/44cfe95a-1eb2-52ea-b672-e2afdf69b78f/ab6d06aa06ce3de20a82de5f7373b40796260f72/build.log`\n",
            "\u001b[32m\u001b[1mPrecompiling\u001b[22m\u001b[39m project...\n",
            "\u001b[32m  ✓ \u001b[39m\u001b[90mGMP_jll\u001b[39m\n",
            "\u001b[32m  ✓ \u001b[39m\u001b[90mCEnum\u001b[39m\n",
            "\u001b[32m  ✓ \u001b[39m\u001b[90mGLPK_jll\u001b[39m\n",
            "\u001b[32m  ✓ \u001b[39m\u001b[90mBinaryProvider\u001b[39m\n",
            "\u001b[32m  ✓ \u001b[39mGLPK\n",
            "5 dependencies successfully precompiled in 9 seconds (267 already precompiled)\n"
          ]
        }
      ]
    },
    {
      "cell_type": "code",
      "source": [
        "using JuMP"
      ],
      "metadata": {
        "id": "4pz5sHSgSAY6"
      },
      "execution_count": null,
      "outputs": []
    },
    {
      "cell_type": "code",
      "source": [
        "varinfo(JuMP)"
      ],
      "metadata": {
        "id": "AKluebRySPh2",
        "outputId": "fe744622-80dd-4671-95cd-32fd55a09aaa",
        "colab": {
          "base_uri": "https://localhost:8080/",
          "height": 1000
        }
      },
      "execution_count": null,
      "outputs": [
        {
          "output_type": "execute_result",
          "data": {
            "text/latex": "\\begin{tabular}\n{l | r | l}\nname & size & summary \\\\\n\\hline\n@NLconstraint & 0 bytes & JuMP.var\"\\#@NLconstraint\" \\\\\n@NLconstraints & 0 bytes & JuMP.var\"\\#@NLconstraints\" \\\\\n@NLexpression & 0 bytes & JuMP.var\"\\#@NLexpression\" \\\\\n@NLexpressions & 0 bytes & JuMP.var\"\\#@NLexpressions\" \\\\\n@NLobjective & 0 bytes & JuMP.var\"\\#@NLobjective\" \\\\\n@NLparameter & 0 bytes & JuMP.var\"\\#@NLparameter\" \\\\\n@NLparameters & 0 bytes & JuMP.var\"\\#@NLparameters\" \\\\\n@SDconstraint & 0 bytes & JuMP.var\"\\#@SDconstraint\" \\\\\n@SDconstraints & 0 bytes & JuMP.var\"\\#@SDconstraints\" \\\\\n@build\\_constraint & 0 bytes & JuMP.var\"\\#@build\\_constraint\" \\\\\n@constraint & 0 bytes & JuMP.var\"\\#@constraint\" \\\\\n@constraints & 0 bytes & JuMP.var\"\\#@constraints\" \\\\\n@expression & 0 bytes & JuMP.var\"\\#@expression\" \\\\\n@expressions & 0 bytes & JuMP.var\"\\#@expressions\" \\\\\n@objective & 0 bytes & JuMP.var\"\\#@objective\" \\\\\n@variable & 0 bytes & JuMP.var\"\\#@variable\" \\\\\n@variables & 0 bytes & JuMP.var\"\\#@variables\" \\\\\nALMOST\\_DUAL\\_INFEASIBLE & 4 bytes & MathOptInterface.TerminationStatusCode \\\\\nALMOST\\_INFEASIBLE & 4 bytes & MathOptInterface.TerminationStatusCode \\\\\nALMOST\\_LOCALLY\\_SOLVED & 4 bytes & MathOptInterface.TerminationStatusCode \\\\\nALMOST\\_OPTIMAL & 4 bytes & MathOptInterface.TerminationStatusCode \\\\\nAUTOMATIC & 4 bytes & ModelMode \\\\\nAbstractConstraint & 172 bytes & DataType \\\\\nAbstractJuMPScalar & 172 bytes & DataType \\\\\nAbstractModel & 172 bytes & DataType \\\\\nAbstractShape & 172 bytes & DataType \\\\\nAbstractVariable & 172 bytes & DataType \\\\\nAbstractVariableRef & 172 bytes & DataType \\\\\nAbstractVectorSet & 172 bytes & DataType \\\\\nAffExpr & 212 bytes & DataType \\\\\nBinaryRef & 0 bytes & typeof(BinaryRef) \\\\\nBridgeableConstraint & 80 bytes & UnionAll \\\\\nConstraintNotOwned & 160 bytes & UnionAll \\\\\nConstraintRef & 120 bytes & UnionAll \\\\\nContainers & 457.508 KiB & Module \\\\\nDIRECT & 4 bytes & ModelMode \\\\\nDUAL\\_INFEASIBLE & 4 bytes & MathOptInterface.TerminationStatusCode \\\\\nFEASIBILITY\\_SENSE & 4 bytes & MathOptInterface.OptimizationSense \\\\\nFEASIBLE\\_POINT & 4 bytes & MathOptInterface.ResultStatusCode \\\\\nFixRef & 0 bytes & typeof(FixRef) \\\\\nGenericAffExpr & 80 bytes & UnionAll \\\\\nGenericQuadExpr & 80 bytes & UnionAll \\\\\nIJuliaMode & 172 bytes & DataType \\\\\nINFEASIBILITY\\_CERTIFICATE & 4 bytes & MathOptInterface.ResultStatusCode \\\\\nINFEASIBLE & 4 bytes & MathOptInterface.TerminationStatusCode \\\\\nINFEASIBLE\\_OR\\_UNBOUNDED & 4 bytes & MathOptInterface.TerminationStatusCode \\\\\nINFEASIBLE\\_POINT & 4 bytes & MathOptInterface.ResultStatusCode \\\\\nINTERRUPTED & 4 bytes & MathOptInterface.TerminationStatusCode \\\\\nINVALID\\_MODEL & 4 bytes & MathOptInterface.TerminationStatusCode \\\\\nINVALID\\_OPTION & 4 bytes & MathOptInterface.TerminationStatusCode \\\\\nITERATION\\_LIMIT & 4 bytes & MathOptInterface.TerminationStatusCode \\\\\nIntegerRef & 0 bytes & typeof(IntegerRef) \\\\\nJuMP & 2.433 MiB & Module \\\\\nLOCALLY\\_INFEASIBLE & 4 bytes & MathOptInterface.TerminationStatusCode \\\\\nLOCALLY\\_SOLVED & 4 bytes & MathOptInterface.TerminationStatusCode \\\\\nLinearTermIterator & 120 bytes & UnionAll \\\\\nLowerBoundRef & 0 bytes & typeof(LowerBoundRef) \\\\\nMANUAL & 4 bytes & ModelMode \\\\\nMAX\\_SENSE & 4 bytes & MathOptInterface.OptimizationSense \\\\\nMEMORY\\_LIMIT & 4 bytes & MathOptInterface.TerminationStatusCode \\\\\nMIN\\_SENSE & 4 bytes & MathOptInterface.OptimizationSense \\\\\nMOI & 16.347 MiB & Module \\\\\nMOIB & 1.122 MiB & Module \\\\\nMOIU & 3.096 MiB & Module \\\\\nModel & 252 bytes & DataType \\\\\nModelMode & 172 bytes & DataType \\\\\nNEARLY\\_FEASIBLE\\_POINT & 4 bytes & MathOptInterface.ResultStatusCode \\\\\nNEARLY\\_INFEASIBILITY\\_CERTIFICATE & 4 bytes & MathOptInterface.ResultStatusCode \\\\\nNEARLY\\_REDUCTION\\_CERTIFICATE & 4 bytes & MathOptInterface.ResultStatusCode \\\\\nNLPEvaluator & 420 bytes & DataType \\\\\nNODE\\_LIMIT & 4 bytes & MathOptInterface.TerminationStatusCode \\\\\nNORM\\_LIMIT & 4 bytes & MathOptInterface.TerminationStatusCode \\\\\nNO\\_SOLUTION & 4 bytes & MathOptInterface.ResultStatusCode \\\\\nNUMERICAL\\_ERROR & 4 bytes & MathOptInterface.TerminationStatusCode \\\\\nNoOptimizer & 172 bytes & DataType \\\\\nNonlinearConstraintIndex & 188 bytes & DataType \\\\\nNonlinearConstraintRef & 40 bytes & UnionAll \\\\\nNonlinearExpression & 196 bytes & DataType \\\\\nNonlinearParameter & 196 bytes & DataType \\\\\nOBJECTIVE\\_LIMIT & 4 bytes & MathOptInterface.TerminationStatusCode \\\\\nOPTIMAL & 4 bytes & MathOptInterface.TerminationStatusCode \\\\\nOPTIMIZE\\_NOT\\_CALLED & 4 bytes & MathOptInterface.TerminationStatusCode \\\\\nOTHER\\_ERROR & 4 bytes & MathOptInterface.TerminationStatusCode \\\\\nOTHER\\_LIMIT & 4 bytes & MathOptInterface.TerminationStatusCode \\\\\nOTHER\\_RESULT\\_STATUS & 4 bytes & MathOptInterface.ResultStatusCode \\\\\nOptimizationSense & 172 bytes & DataType \\\\\nOptimizeNotCalled & 172 bytes & DataType \\\\\nPSDCone & 172 bytes & DataType \\\\\nPrintMode & 172 bytes & DataType \\\\\nQuadExpr & 212 bytes & DataType \\\\\nQuadTermIterator & 120 bytes & UnionAll \\\\\nREDUCTION\\_CERTIFICATE & 4 bytes & MathOptInterface.ResultStatusCode \\\\\nREPLMode & 172 bytes & DataType \\\\\nReferenceMap & 196 bytes & DataType \\\\\nResultStatusCode & 172 bytes & DataType \\\\\nRotatedSecondOrderCone & 172 bytes & DataType \\\\\nSLOW\\_PROGRESS & 4 bytes & MathOptInterface.TerminationStatusCode \\\\\nSOLUTION\\_LIMIT & 4 bytes & MathOptInterface.TerminationStatusCode \\\\\nSOS1 & 188 bytes & DataType \\\\\nSOS2 & 188 bytes & DataType \\\\\nScalarConstraint & 80 bytes & UnionAll \\\\\nScalarShape & 172 bytes & DataType \\\\\nScalarVariable & 160 bytes & UnionAll \\\\\nSecondOrderCone & 172 bytes & DataType \\\\\nSensitivityReport & 196 bytes & DataType \\\\\nSkewSymmetricMatrixShape & 188 bytes & DataType \\\\\nSkewSymmetricMatrixSpace & 172 bytes & DataType \\\\\nSquareMatrixShape & 188 bytes & DataType \\\\\nSymMatrixSpace & 172 bytes & DataType \\\\\nSymmetricMatrixShape & 188 bytes & DataType \\\\\nTIME\\_LIMIT & 4 bytes & MathOptInterface.TerminationStatusCode \\\\\nTerminationStatusCode & 172 bytes & DataType \\\\\nUNKNOWN\\_RESULT\\_STATUS & 4 bytes & MathOptInterface.ResultStatusCode \\\\\nUnorderedPair & 40 bytes & UnionAll \\\\\nUpperBoundRef & 0 bytes & typeof(UpperBoundRef) \\\\\nVariableConstrainedOnCreation & 80 bytes & UnionAll \\\\\nVariableInfo & 160 bytes & UnionAll \\\\\nVariableNotOwned & 40 bytes & UnionAll \\\\\nVariableRef & 196 bytes & DataType \\\\\nVariablesConstrainedOnCreation & 120 bytes & UnionAll \\\\\nVectorConstraint & 120 bytes & UnionAll \\\\\nVectorShape & 172 bytes & DataType \\\\\nadd\\_NL\\_constraint & 0 bytes & typeof(add\\_NL\\_constraint) \\\\\nadd\\_NL\\_expression & 0 bytes & typeof(add\\_NL\\_expression) \\\\\nadd\\_bridge & 0 bytes & typeof(add\\_bridge) \\\\\nadd\\_constraint & 0 bytes & typeof(add\\_constraint) \\\\\nadd\\_to\\_expression! & 0 bytes & typeof(add\\_to\\_expression!) \\\\\nadd\\_to\\_function\\_constant & 0 bytes & typeof(add\\_to\\_function\\_constant) \\\\\nadd\\_variable & 0 bytes & typeof(add\\_variable) \\\\\nall\\_constraints & 0 bytes & typeof(all\\_constraints) \\\\\nall\\_variables & 0 bytes & typeof(all\\_variables) \\\\\nbackend & 0 bytes & typeof(JuMP.backend) \\\\\nbarrier\\_iterations & 0 bytes & typeof(barrier\\_iterations) \\\\\nbridge\\_constraints & 0 bytes & typeof(bridge\\_constraints) \\\\\nbuild\\_constraint & 0 bytes & typeof(build\\_constraint) \\\\\nbuild\\_variable & 0 bytes & typeof(build\\_variable) \\\\\ncallback\\_node\\_status & 0 bytes & typeof(callback\\_node\\_status) \\\\\ncallback\\_value & 0 bytes & typeof(callback\\_value) \\\\\ncheck\\_belongs\\_to\\_model & 0 bytes & typeof(check\\_belongs\\_to\\_model) \\\\\ncoefficient & 0 bytes & typeof(coefficient) \\\\\ncompute\\_conflict! & 0 bytes & typeof(compute\\_conflict!) \\\\\nconstant & 0 bytes & typeof(constant) \\\\\nconstraint\\_by\\_name & 0 bytes & typeof(constraint\\_by\\_name) \\\\\nconstraint\\_object & 0 bytes & typeof(constraint\\_object) \\\\\nconstraint\\_ref\\_with\\_index & 0 bytes & typeof(constraint\\_ref\\_with\\_index) \\\\\nconstraint\\_string & 0 bytes & typeof(constraint\\_string) \\\\\nconstraints\\_string & 0 bytes & typeof(constraints\\_string) \\\\\ncopy\\_conflict & 0 bytes & typeof(copy\\_conflict) \\\\\ncopy\\_extension\\_data & 0 bytes & typeof(copy\\_extension\\_data) \\\\\ncopy\\_model & 0 bytes & typeof(copy\\_model) \\\\\ndelete & 0 bytes & typeof(delete) \\\\\ndelete\\_lower\\_bound & 0 bytes & typeof(delete\\_lower\\_bound) \\\\\ndelete\\_upper\\_bound & 0 bytes & typeof(delete\\_upper\\_bound) \\\\\ndirect\\_model & 0 bytes & typeof(direct\\_model) \\\\\ndrop\\_zeros! & 0 bytes & typeof(drop\\_zeros!) \\\\\ndual & 0 bytes & typeof(dual) \\\\\ndual\\_objective\\_value & 0 bytes & typeof(dual\\_objective\\_value) \\\\\ndual\\_shape & 0 bytes & typeof(dual\\_shape) \\\\\ndual\\_start\\_value & 0 bytes & typeof(dual\\_start\\_value) \\\\\ndual\\_status & 0 bytes & typeof(dual\\_status) \\\\\nerror\\_if\\_direct\\_mode & 0 bytes & typeof(error\\_if\\_direct\\_mode) \\\\\nfix & 0 bytes & typeof(fix) \\\\\nfix\\_value & 0 bytes & typeof(fix\\_value) \\\\\nfunction\\_string & 0 bytes & typeof(function\\_string) \\\\\nget\\_optimizer\\_attribute & 0 bytes & typeof(get\\_optimizer\\_attribute) \\\\\ngetdual & 0 bytes & typeof(getdual) \\\\\ngetobjectivebound & 0 bytes & typeof(getobjectivebound) \\\\\ngetobjectivevalue & 0 bytes & typeof(getobjectivevalue) \\\\\ngetvalue & 0 bytes & typeof(getvalue) \\\\\nhas\\_duals & 0 bytes & typeof(has\\_duals) \\\\\nhas\\_lower\\_bound & 0 bytes & typeof(has\\_lower\\_bound) \\\\\nhas\\_upper\\_bound & 0 bytes & typeof(has\\_upper\\_bound) \\\\\nhas\\_values & 0 bytes & typeof(has\\_values) \\\\\nin\\_set\\_string & 0 bytes & typeof(in\\_set\\_string) \\\\\nindex & 0 bytes & typeof(index) \\\\\nis\\_binary & 0 bytes & typeof(is\\_binary) \\\\\nis\\_fixed & 0 bytes & typeof(is\\_fixed) \\\\\nis\\_integer & 0 bytes & typeof(is\\_integer) \\\\\nis\\_valid & 0 bytes & typeof(is\\_valid) \\\\\nisequal\\_canonical & 0 bytes & typeof(isequal\\_canonical) \\\\\njump\\_function & 0 bytes & typeof(jump\\_function) \\\\\njump\\_function\\_type & 0 bytes & typeof(jump\\_function\\_type) \\\\\nlatex\\_formulation & 0 bytes & typeof(latex\\_formulation) \\\\\nlinear\\_terms & 0 bytes & typeof(linear\\_terms) \\\\\nlinearterms & 0 bytes & typeof(linearterms) \\\\\nlist\\_of\\_constraint\\_types & 0 bytes & typeof(list\\_of\\_constraint\\_types) \\\\\nlower\\_bound & 0 bytes & typeof(lower\\_bound) \\\\\nlp\\_sensitivity\\_report & 0 bytes & typeof(lp\\_sensitivity\\_report) \\\\\nmap\\_coefficients & 0 bytes & typeof(map\\_coefficients) \\\\\nmap\\_coefficients\\_inplace! & 0 bytes & typeof(map\\_coefficients\\_inplace!) \\\\\nmode & 0 bytes & typeof(JuMP.mode) \\\\\nmodel\\_string & 0 bytes & typeof(model\\_string) \\\\\nmoi\\_function & 0 bytes & typeof(moi\\_function) \\\\\nmoi\\_function\\_type & 0 bytes & typeof(moi\\_function\\_type) \\\\\nmoi\\_set & 0 bytes & typeof(moi\\_set) \\\\\nname & 0 bytes & typeof(name) \\\\\nnl\\_constraint\\_string & 0 bytes & typeof(nl\\_constraint\\_string) \\\\\nnl\\_expr\\_string & 0 bytes & typeof(nl\\_expr\\_string) \\\\\nnode\\_count & 0 bytes & typeof(node\\_count) \\\\\nnormalized\\_coefficient & 0 bytes & typeof(normalized\\_coefficient) \\\\\nnormalized\\_rhs & 0 bytes & typeof(normalized\\_rhs) \\\\\nnum\\_constraints & 0 bytes & typeof(num\\_constraints) \\\\\nnum\\_nl\\_constraints & 0 bytes & typeof(num\\_nl\\_constraints) \\\\\nnum\\_variables & 0 bytes & typeof(num\\_variables) \\\\\nnumnlconstr & 0 bytes & typeof(numnlconstr) \\\\\nnumvar & 0 bytes & typeof(numvar) \\\\\nobject\\_dictionary & 0 bytes & typeof(object\\_dictionary) \\\\\nobjective\\_bound & 0 bytes & typeof(objective\\_bound) \\\\\nobjective\\_function & 0 bytes & typeof(objective\\_function) \\\\\nobjective\\_function\\_string & 0 bytes & typeof(objective\\_function\\_string) \\\\\nobjective\\_function\\_type & 0 bytes & typeof(objective\\_function\\_type) \\\\\nobjective\\_sense & 0 bytes & typeof(objective\\_sense) \\\\\nobjective\\_value & 0 bytes & typeof(objective\\_value) \\\\\nop\\_hint & 98 bytes & 90-codeunit String \\\\\noperator\\_to\\_set & 0 bytes & typeof(operator\\_to\\_set) \\\\\noperator\\_warn & 0 bytes & typeof(operator\\_warn) \\\\\noptimize! & 0 bytes & typeof(optimize!) \\\\\noptimizer\\_index & 0 bytes & typeof(optimizer\\_index) \\\\\noptimizer\\_with\\_attributes & 0 bytes & typeof(optimizer\\_with\\_attributes) \\\\\nowner\\_model & 0 bytes & typeof(owner\\_model) \\\\\nparse\\_SD\\_constraint & 0 bytes & typeof(parse\\_SD\\_constraint) \\\\\nparse\\_SD\\_constraint\\_expr & 0 bytes & typeof(parse\\_SD\\_constraint\\_expr) \\\\\nparse\\_constraint & 0 bytes & typeof(parse\\_constraint) \\\\\nparse\\_constraint\\_call & 0 bytes & typeof(parse\\_constraint\\_call) \\\\\nparse\\_constraint\\_expr & 0 bytes & typeof(parse\\_constraint\\_expr) \\\\\nparse\\_constraint\\_head & 0 bytes & typeof(parse\\_constraint\\_head) \\\\\nparse\\_one\\_operator\\_constraint & 0 bytes & typeof(parse\\_one\\_operator\\_constraint) \\\\\nparse\\_one\\_operator\\_variable & 0 bytes & typeof(parse\\_one\\_operator\\_variable) \\\\\nparse\\_ternary\\_variable & 0 bytes & typeof(parse\\_ternary\\_variable) \\\\\nparse\\_variable & 0 bytes & typeof(parse\\_variable) \\\\\nprimal\\_feasibility\\_report & 0 bytes & typeof(primal\\_feasibility\\_report) \\\\\nprimal\\_status & 0 bytes & typeof(primal\\_status) \\\\\nprint\\_bridge\\_graph & 0 bytes & typeof(print\\_bridge\\_graph) \\\\\nquad\\_terms & 0 bytes & typeof(quad\\_terms) \\\\\nraw\\_status & 0 bytes & typeof(raw\\_status) \\\\\nread\\_from\\_file & 0 bytes & typeof(read\\_from\\_file) \\\\\nreduced\\_cost & 0 bytes & typeof(reduced\\_cost) \\\\\nregister & 0 bytes & typeof(register) \\\\\nrelative\\_gap & 0 bytes & typeof(relative\\_gap) \\\\\nrelax\\_integrality & 0 bytes & typeof(relax\\_integrality) \\\\\nreshape\\_set & 0 bytes & typeof(reshape\\_set) \\\\\nreshape\\_vector & 0 bytes & typeof(reshape\\_vector) \\\\\nresult\\_count & 0 bytes & typeof(result\\_count) \\\\\nreverse\\_sense & 0 bytes & typeof(reverse\\_sense) \\\\\nsense\\_to\\_set & 0 bytes & typeof(sense\\_to\\_set) \\\\\nset\\_NL\\_objective & 0 bytes & typeof(set\\_NL\\_objective) \\\\\nset\\_binary & 0 bytes & typeof(set\\_binary) \\\\\nset\\_coefficient & 0 bytes & typeof(set\\_coefficient) \\\\\nset\\_dual\\_start\\_value & 0 bytes & typeof(set\\_dual\\_start\\_value) \\\\\nset\\_integer & 0 bytes & typeof(set\\_integer) \\\\\nset\\_lower\\_bound & 0 bytes & typeof(set\\_lower\\_bound) \\\\\nset\\_name & 0 bytes & typeof(set\\_name) \\\\\nset\\_normalized\\_coefficient & 0 bytes & typeof(set\\_normalized\\_coefficient) \\\\\nset\\_normalized\\_rhs & 0 bytes & typeof(set\\_normalized\\_rhs) \\\\\nset\\_objective & 0 bytes & typeof(set\\_objective) \\\\\nset\\_objective\\_coefficient & 0 bytes & typeof(set\\_objective\\_coefficient) \\\\\nset\\_objective\\_function & 0 bytes & typeof(set\\_objective\\_function) \\\\\nset\\_objective\\_sense & 0 bytes & typeof(set\\_objective\\_sense) \\\\\nset\\_optimize\\_hook & 0 bytes & typeof(set\\_optimize\\_hook) \\\\\nset\\_optimizer & 0 bytes & typeof(set\\_optimizer) \\\\\nset\\_optimizer\\_attribute & 0 bytes & typeof(set\\_optimizer\\_attribute) \\\\\nset\\_optimizer\\_attributes & 0 bytes & typeof(set\\_optimizer\\_attributes) \\\\\nset\\_parameter & 0 bytes & typeof(set\\_parameter) \\\\\nset\\_parameters & 0 bytes & typeof(set\\_parameters) \\\\\nset\\_silent & 0 bytes & typeof(set\\_silent) \\\\\nset\\_start\\_value & 0 bytes & typeof(set\\_start\\_value) \\\\\nset\\_time\\_limit\\_sec & 0 bytes & typeof(set\\_time\\_limit\\_sec) \\\\\nset\\_upper\\_bound & 0 bytes & typeof(set\\_upper\\_bound) \\\\\nset\\_value & 0 bytes & typeof(set\\_value) \\\\\nsetlowerbound & 0 bytes & typeof(setlowerbound) \\\\\nsetupperbound & 0 bytes & typeof(setupperbound) \\\\\nsetvalue & 0 bytes & typeof(setvalue) \\\\\nshadow\\_price & 0 bytes & typeof(shadow\\_price) \\\\\nshape & 0 bytes & typeof(JuMP.shape) \\\\\nshow\\_backend\\_summary & 0 bytes & typeof(show\\_backend\\_summary) \\\\\nshow\\_constraints\\_summary & 0 bytes & typeof(show\\_constraints\\_summary) \\\\\nshow\\_objective\\_function\\_summary & 0 bytes & typeof(show\\_objective\\_function\\_summary) \\\\\nsimplex\\_iterations & 0 bytes & typeof(simplex\\_iterations) \\\\\nsolution\\_summary & 0 bytes & typeof(solution\\_summary) \\\\\nsolve & 0 bytes & typeof(solve) \\\\\nsolve\\_time & 0 bytes & typeof(solve\\_time) \\\\\nsolver\\_name & 0 bytes & typeof(solver\\_name) \\\\\nstart\\_value & 0 bytes & typeof(start\\_value) \\\\\ntermination\\_status & 0 bytes & typeof(termination\\_status) \\\\\ntime\\_limit\\_sec & 0 bytes & typeof(time\\_limit\\_sec) \\\\\nunfix & 0 bytes & typeof(unfix) \\\\\nunregister & 0 bytes & typeof(unregister) \\\\\nunsafe\\_backend & 0 bytes & typeof(unsafe\\_backend) \\\\\nunset\\_binary & 0 bytes & typeof(unset\\_binary) \\\\\nunset\\_integer & 0 bytes & typeof(unset\\_integer) \\\\\nunset\\_silent & 0 bytes & typeof(unset\\_silent) \\\\\nunset\\_time\\_limit\\_sec & 0 bytes & typeof(unset\\_time\\_limit\\_sec) \\\\\nupper\\_bound & 0 bytes & typeof(upper\\_bound) \\\\\nvalue & 0 bytes & typeof(JuMP.value) \\\\\nvariable\\_by\\_name & 0 bytes & typeof(variable\\_by\\_name) \\\\\nvariable\\_ref\\_type & 0 bytes & typeof(variable\\_ref\\_type) \\\\\nvectorize & 0 bytes & typeof(vectorize) \\\\\nwith\\_optimizer & 0 bytes & typeof(with\\_optimizer) \\\\\nwriteLP & 0 bytes & typeof(writeLP) \\\\\nwriteMPS & 0 bytes & typeof(writeMPS) \\\\\nwrite\\_to\\_file & 0 bytes & typeof(write\\_to\\_file) \\\\\n\\end{tabular}\n",
            "text/markdown": "| name                             |        size | summary                                 |\n|:-------------------------------- | -----------:|:--------------------------------------- |\n| @NLconstraint                    |     0 bytes | JuMP.var\"#@NLconstraint\"                |\n| @NLconstraints                   |     0 bytes | JuMP.var\"#@NLconstraints\"               |\n| @NLexpression                    |     0 bytes | JuMP.var\"#@NLexpression\"                |\n| @NLexpressions                   |     0 bytes | JuMP.var\"#@NLexpressions\"               |\n| @NLobjective                     |     0 bytes | JuMP.var\"#@NLobjective\"                 |\n| @NLparameter                     |     0 bytes | JuMP.var\"#@NLparameter\"                 |\n| @NLparameters                    |     0 bytes | JuMP.var\"#@NLparameters\"                |\n| @SDconstraint                    |     0 bytes | JuMP.var\"#@SDconstraint\"                |\n| @SDconstraints                   |     0 bytes | JuMP.var\"#@SDconstraints\"               |\n| @build_constraint                |     0 bytes | JuMP.var\"#@build_constraint\"            |\n| @constraint                      |     0 bytes | JuMP.var\"#@constraint\"                  |\n| @constraints                     |     0 bytes | JuMP.var\"#@constraints\"                 |\n| @expression                      |     0 bytes | JuMP.var\"#@expression\"                  |\n| @expressions                     |     0 bytes | JuMP.var\"#@expressions\"                 |\n| @objective                       |     0 bytes | JuMP.var\"#@objective\"                   |\n| @variable                        |     0 bytes | JuMP.var\"#@variable\"                    |\n| @variables                       |     0 bytes | JuMP.var\"#@variables\"                   |\n| ALMOST_DUAL_INFEASIBLE           |     4 bytes | MathOptInterface.TerminationStatusCode  |\n| ALMOST_INFEASIBLE                |     4 bytes | MathOptInterface.TerminationStatusCode  |\n| ALMOST_LOCALLY_SOLVED            |     4 bytes | MathOptInterface.TerminationStatusCode  |\n| ALMOST_OPTIMAL                   |     4 bytes | MathOptInterface.TerminationStatusCode  |\n| AUTOMATIC                        |     4 bytes | ModelMode                               |\n| AbstractConstraint               |   172 bytes | DataType                                |\n| AbstractJuMPScalar               |   172 bytes | DataType                                |\n| AbstractModel                    |   172 bytes | DataType                                |\n| AbstractShape                    |   172 bytes | DataType                                |\n| AbstractVariable                 |   172 bytes | DataType                                |\n| AbstractVariableRef              |   172 bytes | DataType                                |\n| AbstractVectorSet                |   172 bytes | DataType                                |\n| AffExpr                          |   212 bytes | DataType                                |\n| BinaryRef                        |     0 bytes | typeof(BinaryRef)                       |\n| BridgeableConstraint             |    80 bytes | UnionAll                                |\n| ConstraintNotOwned               |   160 bytes | UnionAll                                |\n| ConstraintRef                    |   120 bytes | UnionAll                                |\n| Containers                       | 457.508 KiB | Module                                  |\n| DIRECT                           |     4 bytes | ModelMode                               |\n| DUAL_INFEASIBLE                  |     4 bytes | MathOptInterface.TerminationStatusCode  |\n| FEASIBILITY_SENSE                |     4 bytes | MathOptInterface.OptimizationSense      |\n| FEASIBLE_POINT                   |     4 bytes | MathOptInterface.ResultStatusCode       |\n| FixRef                           |     0 bytes | typeof(FixRef)                          |\n| GenericAffExpr                   |    80 bytes | UnionAll                                |\n| GenericQuadExpr                  |    80 bytes | UnionAll                                |\n| IJuliaMode                       |   172 bytes | DataType                                |\n| INFEASIBILITY_CERTIFICATE        |     4 bytes | MathOptInterface.ResultStatusCode       |\n| INFEASIBLE                       |     4 bytes | MathOptInterface.TerminationStatusCode  |\n| INFEASIBLE_OR_UNBOUNDED          |     4 bytes | MathOptInterface.TerminationStatusCode  |\n| INFEASIBLE_POINT                 |     4 bytes | MathOptInterface.ResultStatusCode       |\n| INTERRUPTED                      |     4 bytes | MathOptInterface.TerminationStatusCode  |\n| INVALID_MODEL                    |     4 bytes | MathOptInterface.TerminationStatusCode  |\n| INVALID_OPTION                   |     4 bytes | MathOptInterface.TerminationStatusCode  |\n| ITERATION_LIMIT                  |     4 bytes | MathOptInterface.TerminationStatusCode  |\n| IntegerRef                       |     0 bytes | typeof(IntegerRef)                      |\n| JuMP                             |   2.433 MiB | Module                                  |\n| LOCALLY_INFEASIBLE               |     4 bytes | MathOptInterface.TerminationStatusCode  |\n| LOCALLY_SOLVED                   |     4 bytes | MathOptInterface.TerminationStatusCode  |\n| LinearTermIterator               |   120 bytes | UnionAll                                |\n| LowerBoundRef                    |     0 bytes | typeof(LowerBoundRef)                   |\n| MANUAL                           |     4 bytes | ModelMode                               |\n| MAX_SENSE                        |     4 bytes | MathOptInterface.OptimizationSense      |\n| MEMORY_LIMIT                     |     4 bytes | MathOptInterface.TerminationStatusCode  |\n| MIN_SENSE                        |     4 bytes | MathOptInterface.OptimizationSense      |\n| MOI                              |  16.347 MiB | Module                                  |\n| MOIB                             |   1.122 MiB | Module                                  |\n| MOIU                             |   3.096 MiB | Module                                  |\n| Model                            |   252 bytes | DataType                                |\n| ModelMode                        |   172 bytes | DataType                                |\n| NEARLY_FEASIBLE_POINT            |     4 bytes | MathOptInterface.ResultStatusCode       |\n| NEARLY_INFEASIBILITY_CERTIFICATE |     4 bytes | MathOptInterface.ResultStatusCode       |\n| NEARLY_REDUCTION_CERTIFICATE     |     4 bytes | MathOptInterface.ResultStatusCode       |\n| NLPEvaluator                     |   420 bytes | DataType                                |\n| NODE_LIMIT                       |     4 bytes | MathOptInterface.TerminationStatusCode  |\n| NORM_LIMIT                       |     4 bytes | MathOptInterface.TerminationStatusCode  |\n| NO_SOLUTION                      |     4 bytes | MathOptInterface.ResultStatusCode       |\n| NUMERICAL_ERROR                  |     4 bytes | MathOptInterface.TerminationStatusCode  |\n| NoOptimizer                      |   172 bytes | DataType                                |\n| NonlinearConstraintIndex         |   188 bytes | DataType                                |\n| NonlinearConstraintRef           |    40 bytes | UnionAll                                |\n| NonlinearExpression              |   196 bytes | DataType                                |\n| NonlinearParameter               |   196 bytes | DataType                                |\n| OBJECTIVE_LIMIT                  |     4 bytes | MathOptInterface.TerminationStatusCode  |\n| OPTIMAL                          |     4 bytes | MathOptInterface.TerminationStatusCode  |\n| OPTIMIZE_NOT_CALLED              |     4 bytes | MathOptInterface.TerminationStatusCode  |\n| OTHER_ERROR                      |     4 bytes | MathOptInterface.TerminationStatusCode  |\n| OTHER_LIMIT                      |     4 bytes | MathOptInterface.TerminationStatusCode  |\n| OTHER_RESULT_STATUS              |     4 bytes | MathOptInterface.ResultStatusCode       |\n| OptimizationSense                |   172 bytes | DataType                                |\n| OptimizeNotCalled                |   172 bytes | DataType                                |\n| PSDCone                          |   172 bytes | DataType                                |\n| PrintMode                        |   172 bytes | DataType                                |\n| QuadExpr                         |   212 bytes | DataType                                |\n| QuadTermIterator                 |   120 bytes | UnionAll                                |\n| REDUCTION_CERTIFICATE            |     4 bytes | MathOptInterface.ResultStatusCode       |\n| REPLMode                         |   172 bytes | DataType                                |\n| ReferenceMap                     |   196 bytes | DataType                                |\n| ResultStatusCode                 |   172 bytes | DataType                                |\n| RotatedSecondOrderCone           |   172 bytes | DataType                                |\n| SLOW_PROGRESS                    |     4 bytes | MathOptInterface.TerminationStatusCode  |\n| SOLUTION_LIMIT                   |     4 bytes | MathOptInterface.TerminationStatusCode  |\n| SOS1                             |   188 bytes | DataType                                |\n| SOS2                             |   188 bytes | DataType                                |\n| ScalarConstraint                 |    80 bytes | UnionAll                                |\n| ScalarShape                      |   172 bytes | DataType                                |\n| ScalarVariable                   |   160 bytes | UnionAll                                |\n| SecondOrderCone                  |   172 bytes | DataType                                |\n| SensitivityReport                |   196 bytes | DataType                                |\n| SkewSymmetricMatrixShape         |   188 bytes | DataType                                |\n| SkewSymmetricMatrixSpace         |   172 bytes | DataType                                |\n| SquareMatrixShape                |   188 bytes | DataType                                |\n| SymMatrixSpace                   |   172 bytes | DataType                                |\n| SymmetricMatrixShape             |   188 bytes | DataType                                |\n| TIME_LIMIT                       |     4 bytes | MathOptInterface.TerminationStatusCode  |\n| TerminationStatusCode            |   172 bytes | DataType                                |\n| UNKNOWN_RESULT_STATUS            |     4 bytes | MathOptInterface.ResultStatusCode       |\n| UnorderedPair                    |    40 bytes | UnionAll                                |\n| UpperBoundRef                    |     0 bytes | typeof(UpperBoundRef)                   |\n| VariableConstrainedOnCreation    |    80 bytes | UnionAll                                |\n| VariableInfo                     |   160 bytes | UnionAll                                |\n| VariableNotOwned                 |    40 bytes | UnionAll                                |\n| VariableRef                      |   196 bytes | DataType                                |\n| VariablesConstrainedOnCreation   |   120 bytes | UnionAll                                |\n| VectorConstraint                 |   120 bytes | UnionAll                                |\n| VectorShape                      |   172 bytes | DataType                                |\n| add_NL_constraint                |     0 bytes | typeof(add_NL_constraint)               |\n| add_NL_expression                |     0 bytes | typeof(add_NL_expression)               |\n| add_bridge                       |     0 bytes | typeof(add_bridge)                      |\n| add_constraint                   |     0 bytes | typeof(add_constraint)                  |\n| add_to_expression!               |     0 bytes | typeof(add_to_expression!)              |\n| add_to_function_constant         |     0 bytes | typeof(add_to_function_constant)        |\n| add_variable                     |     0 bytes | typeof(add_variable)                    |\n| all_constraints                  |     0 bytes | typeof(all_constraints)                 |\n| all_variables                    |     0 bytes | typeof(all_variables)                   |\n| backend                          |     0 bytes | typeof(JuMP.backend)                    |\n| barrier_iterations               |     0 bytes | typeof(barrier_iterations)              |\n| bridge_constraints               |     0 bytes | typeof(bridge_constraints)              |\n| build_constraint                 |     0 bytes | typeof(build_constraint)                |\n| build_variable                   |     0 bytes | typeof(build_variable)                  |\n| callback_node_status             |     0 bytes | typeof(callback_node_status)            |\n| callback_value                   |     0 bytes | typeof(callback_value)                  |\n| check_belongs_to_model           |     0 bytes | typeof(check_belongs_to_model)          |\n| coefficient                      |     0 bytes | typeof(coefficient)                     |\n| compute_conflict!                |     0 bytes | typeof(compute_conflict!)               |\n| constant                         |     0 bytes | typeof(constant)                        |\n| constraint_by_name               |     0 bytes | typeof(constraint_by_name)              |\n| constraint_object                |     0 bytes | typeof(constraint_object)               |\n| constraint_ref_with_index        |     0 bytes | typeof(constraint_ref_with_index)       |\n| constraint_string                |     0 bytes | typeof(constraint_string)               |\n| constraints_string               |     0 bytes | typeof(constraints_string)              |\n| copy_conflict                    |     0 bytes | typeof(copy_conflict)                   |\n| copy_extension_data              |     0 bytes | typeof(copy_extension_data)             |\n| copy_model                       |     0 bytes | typeof(copy_model)                      |\n| delete                           |     0 bytes | typeof(delete)                          |\n| delete_lower_bound               |     0 bytes | typeof(delete_lower_bound)              |\n| delete_upper_bound               |     0 bytes | typeof(delete_upper_bound)              |\n| direct_model                     |     0 bytes | typeof(direct_model)                    |\n| drop_zeros!                      |     0 bytes | typeof(drop_zeros!)                     |\n| dual                             |     0 bytes | typeof(dual)                            |\n| dual_objective_value             |     0 bytes | typeof(dual_objective_value)            |\n| dual_shape                       |     0 bytes | typeof(dual_shape)                      |\n| dual_start_value                 |     0 bytes | typeof(dual_start_value)                |\n| dual_status                      |     0 bytes | typeof(dual_status)                     |\n| error_if_direct_mode             |     0 bytes | typeof(error_if_direct_mode)            |\n| fix                              |     0 bytes | typeof(fix)                             |\n| fix_value                        |     0 bytes | typeof(fix_value)                       |\n| function_string                  |     0 bytes | typeof(function_string)                 |\n| get_optimizer_attribute          |     0 bytes | typeof(get_optimizer_attribute)         |\n| getdual                          |     0 bytes | typeof(getdual)                         |\n| getobjectivebound                |     0 bytes | typeof(getobjectivebound)               |\n| getobjectivevalue                |     0 bytes | typeof(getobjectivevalue)               |\n| getvalue                         |     0 bytes | typeof(getvalue)                        |\n| has_duals                        |     0 bytes | typeof(has_duals)                       |\n| has_lower_bound                  |     0 bytes | typeof(has_lower_bound)                 |\n| has_upper_bound                  |     0 bytes | typeof(has_upper_bound)                 |\n| has_values                       |     0 bytes | typeof(has_values)                      |\n| in_set_string                    |     0 bytes | typeof(in_set_string)                   |\n| index                            |     0 bytes | typeof(index)                           |\n| is_binary                        |     0 bytes | typeof(is_binary)                       |\n| is_fixed                         |     0 bytes | typeof(is_fixed)                        |\n| is_integer                       |     0 bytes | typeof(is_integer)                      |\n| is_valid                         |     0 bytes | typeof(is_valid)                        |\n| isequal_canonical                |     0 bytes | typeof(isequal_canonical)               |\n| jump_function                    |     0 bytes | typeof(jump_function)                   |\n| jump_function_type               |     0 bytes | typeof(jump_function_type)              |\n| latex_formulation                |     0 bytes | typeof(latex_formulation)               |\n| linear_terms                     |     0 bytes | typeof(linear_terms)                    |\n| linearterms                      |     0 bytes | typeof(linearterms)                     |\n| list_of_constraint_types         |     0 bytes | typeof(list_of_constraint_types)        |\n| lower_bound                      |     0 bytes | typeof(lower_bound)                     |\n| lp_sensitivity_report            |     0 bytes | typeof(lp_sensitivity_report)           |\n| map_coefficients                 |     0 bytes | typeof(map_coefficients)                |\n| map_coefficients_inplace!        |     0 bytes | typeof(map_coefficients_inplace!)       |\n| mode                             |     0 bytes | typeof(JuMP.mode)                       |\n| model_string                     |     0 bytes | typeof(model_string)                    |\n| moi_function                     |     0 bytes | typeof(moi_function)                    |\n| moi_function_type                |     0 bytes | typeof(moi_function_type)               |\n| moi_set                          |     0 bytes | typeof(moi_set)                         |\n| name                             |     0 bytes | typeof(name)                            |\n| nl_constraint_string             |     0 bytes | typeof(nl_constraint_string)            |\n| nl_expr_string                   |     0 bytes | typeof(nl_expr_string)                  |\n| node_count                       |     0 bytes | typeof(node_count)                      |\n| normalized_coefficient           |     0 bytes | typeof(normalized_coefficient)          |\n| normalized_rhs                   |     0 bytes | typeof(normalized_rhs)                  |\n| num_constraints                  |     0 bytes | typeof(num_constraints)                 |\n| num_nl_constraints               |     0 bytes | typeof(num_nl_constraints)              |\n| num_variables                    |     0 bytes | typeof(num_variables)                   |\n| numnlconstr                      |     0 bytes | typeof(numnlconstr)                     |\n| numvar                           |     0 bytes | typeof(numvar)                          |\n| object_dictionary                |     0 bytes | typeof(object_dictionary)               |\n| objective_bound                  |     0 bytes | typeof(objective_bound)                 |\n| objective_function               |     0 bytes | typeof(objective_function)              |\n| objective_function_string        |     0 bytes | typeof(objective_function_string)       |\n| objective_function_type          |     0 bytes | typeof(objective_function_type)         |\n| objective_sense                  |     0 bytes | typeof(objective_sense)                 |\n| objective_value                  |     0 bytes | typeof(objective_value)                 |\n| op_hint                          |    98 bytes | 90-codeunit String                      |\n| operator_to_set                  |     0 bytes | typeof(operator_to_set)                 |\n| operator_warn                    |     0 bytes | typeof(operator_warn)                   |\n| optimize!                        |     0 bytes | typeof(optimize!)                       |\n| optimizer_index                  |     0 bytes | typeof(optimizer_index)                 |\n| optimizer_with_attributes        |     0 bytes | typeof(optimizer_with_attributes)       |\n| owner_model                      |     0 bytes | typeof(owner_model)                     |\n| parse_SD_constraint              |     0 bytes | typeof(parse_SD_constraint)             |\n| parse_SD_constraint_expr         |     0 bytes | typeof(parse_SD_constraint_expr)        |\n| parse_constraint                 |     0 bytes | typeof(parse_constraint)                |\n| parse_constraint_call            |     0 bytes | typeof(parse_constraint_call)           |\n| parse_constraint_expr            |     0 bytes | typeof(parse_constraint_expr)           |\n| parse_constraint_head            |     0 bytes | typeof(parse_constraint_head)           |\n| parse_one_operator_constraint    |     0 bytes | typeof(parse_one_operator_constraint)   |\n| parse_one_operator_variable      |     0 bytes | typeof(parse_one_operator_variable)     |\n| parse_ternary_variable           |     0 bytes | typeof(parse_ternary_variable)          |\n| parse_variable                   |     0 bytes | typeof(parse_variable)                  |\n| primal_feasibility_report        |     0 bytes | typeof(primal_feasibility_report)       |\n| primal_status                    |     0 bytes | typeof(primal_status)                   |\n| print_bridge_graph               |     0 bytes | typeof(print_bridge_graph)              |\n| quad_terms                       |     0 bytes | typeof(quad_terms)                      |\n| raw_status                       |     0 bytes | typeof(raw_status)                      |\n| read_from_file                   |     0 bytes | typeof(read_from_file)                  |\n| reduced_cost                     |     0 bytes | typeof(reduced_cost)                    |\n| register                         |     0 bytes | typeof(register)                        |\n| relative_gap                     |     0 bytes | typeof(relative_gap)                    |\n| relax_integrality                |     0 bytes | typeof(relax_integrality)               |\n| reshape_set                      |     0 bytes | typeof(reshape_set)                     |\n| reshape_vector                   |     0 bytes | typeof(reshape_vector)                  |\n| result_count                     |     0 bytes | typeof(result_count)                    |\n| reverse_sense                    |     0 bytes | typeof(reverse_sense)                   |\n| sense_to_set                     |     0 bytes | typeof(sense_to_set)                    |\n| set_NL_objective                 |     0 bytes | typeof(set_NL_objective)                |\n| set_binary                       |     0 bytes | typeof(set_binary)                      |\n| set_coefficient                  |     0 bytes | typeof(set_coefficient)                 |\n| set_dual_start_value             |     0 bytes | typeof(set_dual_start_value)            |\n| set_integer                      |     0 bytes | typeof(set_integer)                     |\n| set_lower_bound                  |     0 bytes | typeof(set_lower_bound)                 |\n| set_name                         |     0 bytes | typeof(set_name)                        |\n| set_normalized_coefficient       |     0 bytes | typeof(set_normalized_coefficient)      |\n| set_normalized_rhs               |     0 bytes | typeof(set_normalized_rhs)              |\n| set_objective                    |     0 bytes | typeof(set_objective)                   |\n| set_objective_coefficient        |     0 bytes | typeof(set_objective_coefficient)       |\n| set_objective_function           |     0 bytes | typeof(set_objective_function)          |\n| set_objective_sense              |     0 bytes | typeof(set_objective_sense)             |\n| set_optimize_hook                |     0 bytes | typeof(set_optimize_hook)               |\n| set_optimizer                    |     0 bytes | typeof(set_optimizer)                   |\n| set_optimizer_attribute          |     0 bytes | typeof(set_optimizer_attribute)         |\n| set_optimizer_attributes         |     0 bytes | typeof(set_optimizer_attributes)        |\n| set_parameter                    |     0 bytes | typeof(set_parameter)                   |\n| set_parameters                   |     0 bytes | typeof(set_parameters)                  |\n| set_silent                       |     0 bytes | typeof(set_silent)                      |\n| set_start_value                  |     0 bytes | typeof(set_start_value)                 |\n| set_time_limit_sec               |     0 bytes | typeof(set_time_limit_sec)              |\n| set_upper_bound                  |     0 bytes | typeof(set_upper_bound)                 |\n| set_value                        |     0 bytes | typeof(set_value)                       |\n| setlowerbound                    |     0 bytes | typeof(setlowerbound)                   |\n| setupperbound                    |     0 bytes | typeof(setupperbound)                   |\n| setvalue                         |     0 bytes | typeof(setvalue)                        |\n| shadow_price                     |     0 bytes | typeof(shadow_price)                    |\n| shape                            |     0 bytes | typeof(JuMP.shape)                      |\n| show_backend_summary             |     0 bytes | typeof(show_backend_summary)            |\n| show_constraints_summary         |     0 bytes | typeof(show_constraints_summary)        |\n| show_objective_function_summary  |     0 bytes | typeof(show_objective_function_summary) |\n| simplex_iterations               |     0 bytes | typeof(simplex_iterations)              |\n| solution_summary                 |     0 bytes | typeof(solution_summary)                |\n| solve                            |     0 bytes | typeof(solve)                           |\n| solve_time                       |     0 bytes | typeof(solve_time)                      |\n| solver_name                      |     0 bytes | typeof(solver_name)                     |\n| start_value                      |     0 bytes | typeof(start_value)                     |\n| termination_status               |     0 bytes | typeof(termination_status)              |\n| time_limit_sec                   |     0 bytes | typeof(time_limit_sec)                  |\n| unfix                            |     0 bytes | typeof(unfix)                           |\n| unregister                       |     0 bytes | typeof(unregister)                      |\n| unsafe_backend                   |     0 bytes | typeof(unsafe_backend)                  |\n| unset_binary                     |     0 bytes | typeof(unset_binary)                    |\n| unset_integer                    |     0 bytes | typeof(unset_integer)                   |\n| unset_silent                     |     0 bytes | typeof(unset_silent)                    |\n| unset_time_limit_sec             |     0 bytes | typeof(unset_time_limit_sec)            |\n| upper_bound                      |     0 bytes | typeof(upper_bound)                     |\n| value                            |     0 bytes | typeof(JuMP.value)                      |\n| variable_by_name                 |     0 bytes | typeof(variable_by_name)                |\n| variable_ref_type                |     0 bytes | typeof(variable_ref_type)               |\n| vectorize                        |     0 bytes | typeof(vectorize)                       |\n| with_optimizer                   |     0 bytes | typeof(with_optimizer)                  |\n| writeLP                          |     0 bytes | typeof(writeLP)                         |\n| writeMPS                         |     0 bytes | typeof(writeMPS)                        |\n| write_to_file                    |     0 bytes | typeof(write_to_file)                   |\n",
            "text/plain": [
              "  name                                    size summary                                \n",
              "  –––––––––––––––––––––––––––––––– ––––––––––– –––––––––––––––––––––––––––––––––––––––\n",
              "  @NLconstraint                        0 bytes JuMP.var\"#@NLconstraint\"               \n",
              "  @NLconstraints                       0 bytes JuMP.var\"#@NLconstraints\"              \n",
              "  @NLexpression                        0 bytes JuMP.var\"#@NLexpression\"               \n",
              "  @NLexpressions                       0 bytes JuMP.var\"#@NLexpressions\"              \n",
              "  @NLobjective                         0 bytes JuMP.var\"#@NLobjective\"                \n",
              "  @NLparameter                         0 bytes JuMP.var\"#@NLparameter\"                \n",
              "  @NLparameters                        0 bytes JuMP.var\"#@NLparameters\"               \n",
              "  @SDconstraint                        0 bytes JuMP.var\"#@SDconstraint\"               \n",
              "  @SDconstraints                       0 bytes JuMP.var\"#@SDconstraints\"              \n",
              "  @build_constraint                    0 bytes JuMP.var\"#@build_constraint\"           \n",
              "  @constraint                          0 bytes JuMP.var\"#@constraint\"                 \n",
              "  @constraints                         0 bytes JuMP.var\"#@constraints\"                \n",
              "  @expression                          0 bytes JuMP.var\"#@expression\"                 \n",
              "  @expressions                         0 bytes JuMP.var\"#@expressions\"                \n",
              "  @objective                           0 bytes JuMP.var\"#@objective\"                  \n",
              "  @variable                            0 bytes JuMP.var\"#@variable\"                   \n",
              "  @variables                           0 bytes JuMP.var\"#@variables\"                  \n",
              "  ALMOST_DUAL_INFEASIBLE               4 bytes MathOptInterface.TerminationStatusCode \n",
              "  ALMOST_INFEASIBLE                    4 bytes MathOptInterface.TerminationStatusCode \n",
              "  ALMOST_LOCALLY_SOLVED                4 bytes MathOptInterface.TerminationStatusCode \n",
              "  ALMOST_OPTIMAL                       4 bytes MathOptInterface.TerminationStatusCode \n",
              "  AUTOMATIC                            4 bytes ModelMode                              \n",
              "  AbstractConstraint                 172 bytes DataType                               \n",
              "  AbstractJuMPScalar                 172 bytes DataType                               \n",
              "  AbstractModel                      172 bytes DataType                               \n",
              "  AbstractShape                      172 bytes DataType                               \n",
              "  AbstractVariable                   172 bytes DataType                               \n",
              "  AbstractVariableRef                172 bytes DataType                               \n",
              "  AbstractVectorSet                  172 bytes DataType                               \n",
              "  AffExpr                            212 bytes DataType                               \n",
              "  BinaryRef                            0 bytes typeof(BinaryRef)                      \n",
              "  BridgeableConstraint                80 bytes UnionAll                               \n",
              "  ConstraintNotOwned                 160 bytes UnionAll                               \n",
              "  ConstraintRef                      120 bytes UnionAll                               \n",
              "  Containers                       457.508 KiB Module                                 \n",
              "  DIRECT                               4 bytes ModelMode                              \n",
              "  DUAL_INFEASIBLE                      4 bytes MathOptInterface.TerminationStatusCode \n",
              "  FEASIBILITY_SENSE                    4 bytes MathOptInterface.OptimizationSense     \n",
              "  FEASIBLE_POINT                       4 bytes MathOptInterface.ResultStatusCode      \n",
              "  FixRef                               0 bytes typeof(FixRef)                         \n",
              "  GenericAffExpr                      80 bytes UnionAll                               \n",
              "  GenericQuadExpr                     80 bytes UnionAll                               \n",
              "  IJuliaMode                         172 bytes DataType                               \n",
              "  INFEASIBILITY_CERTIFICATE            4 bytes MathOptInterface.ResultStatusCode      \n",
              "  INFEASIBLE                           4 bytes MathOptInterface.TerminationStatusCode \n",
              "  INFEASIBLE_OR_UNBOUNDED              4 bytes MathOptInterface.TerminationStatusCode \n",
              "  INFEASIBLE_POINT                     4 bytes MathOptInterface.ResultStatusCode      \n",
              "  INTERRUPTED                          4 bytes MathOptInterface.TerminationStatusCode \n",
              "  INVALID_MODEL                        4 bytes MathOptInterface.TerminationStatusCode \n",
              "  INVALID_OPTION                       4 bytes MathOptInterface.TerminationStatusCode \n",
              "  ITERATION_LIMIT                      4 bytes MathOptInterface.TerminationStatusCode \n",
              "  IntegerRef                           0 bytes typeof(IntegerRef)                     \n",
              "  JuMP                               2.433 MiB Module                                 \n",
              "  LOCALLY_INFEASIBLE                   4 bytes MathOptInterface.TerminationStatusCode \n",
              "  LOCALLY_SOLVED                       4 bytes MathOptInterface.TerminationStatusCode \n",
              "  LinearTermIterator                 120 bytes UnionAll                               \n",
              "  LowerBoundRef                        0 bytes typeof(LowerBoundRef)                  \n",
              "  MANUAL                               4 bytes ModelMode                              \n",
              "  MAX_SENSE                            4 bytes MathOptInterface.OptimizationSense     \n",
              "  MEMORY_LIMIT                         4 bytes MathOptInterface.TerminationStatusCode \n",
              "  MIN_SENSE                            4 bytes MathOptInterface.OptimizationSense     \n",
              "  MOI                               16.347 MiB Module                                 \n",
              "  MOIB                               1.122 MiB Module                                 \n",
              "  MOIU                               3.096 MiB Module                                 \n",
              "  Model                              252 bytes DataType                               \n",
              "  ModelMode                          172 bytes DataType                               \n",
              "  NEARLY_FEASIBLE_POINT                4 bytes MathOptInterface.ResultStatusCode      \n",
              "  NEARLY_INFEASIBILITY_CERTIFICATE     4 bytes MathOptInterface.ResultStatusCode      \n",
              "  NEARLY_REDUCTION_CERTIFICATE         4 bytes MathOptInterface.ResultStatusCode      \n",
              "  NLPEvaluator                       420 bytes DataType                               \n",
              "  NODE_LIMIT                           4 bytes MathOptInterface.TerminationStatusCode \n",
              "  NORM_LIMIT                           4 bytes MathOptInterface.TerminationStatusCode \n",
              "  NO_SOLUTION                          4 bytes MathOptInterface.ResultStatusCode      \n",
              "  NUMERICAL_ERROR                      4 bytes MathOptInterface.TerminationStatusCode \n",
              "  NoOptimizer                        172 bytes DataType                               \n",
              "  NonlinearConstraintIndex           188 bytes DataType                               \n",
              "  NonlinearConstraintRef              40 bytes UnionAll                               \n",
              "  NonlinearExpression                196 bytes DataType                               \n",
              "  NonlinearParameter                 196 bytes DataType                               \n",
              "  OBJECTIVE_LIMIT                      4 bytes MathOptInterface.TerminationStatusCode \n",
              "  OPTIMAL                              4 bytes MathOptInterface.TerminationStatusCode \n",
              "  OPTIMIZE_NOT_CALLED                  4 bytes MathOptInterface.TerminationStatusCode \n",
              "  OTHER_ERROR                          4 bytes MathOptInterface.TerminationStatusCode \n",
              "  OTHER_LIMIT                          4 bytes MathOptInterface.TerminationStatusCode \n",
              "  OTHER_RESULT_STATUS                  4 bytes MathOptInterface.ResultStatusCode      \n",
              "  OptimizationSense                  172 bytes DataType                               \n",
              "  OptimizeNotCalled                  172 bytes DataType                               \n",
              "  PSDCone                            172 bytes DataType                               \n",
              "  PrintMode                          172 bytes DataType                               \n",
              "  QuadExpr                           212 bytes DataType                               \n",
              "  QuadTermIterator                   120 bytes UnionAll                               \n",
              "  REDUCTION_CERTIFICATE                4 bytes MathOptInterface.ResultStatusCode      \n",
              "  REPLMode                           172 bytes DataType                               \n",
              "  ReferenceMap                       196 bytes DataType                               \n",
              "  ResultStatusCode                   172 bytes DataType                               \n",
              "  RotatedSecondOrderCone             172 bytes DataType                               \n",
              "  SLOW_PROGRESS                        4 bytes MathOptInterface.TerminationStatusCode \n",
              "  SOLUTION_LIMIT                       4 bytes MathOptInterface.TerminationStatusCode \n",
              "  SOS1                               188 bytes DataType                               \n",
              "  SOS2                               188 bytes DataType                               \n",
              "  ScalarConstraint                    80 bytes UnionAll                               \n",
              "  ScalarShape                        172 bytes DataType                               \n",
              "  ScalarVariable                     160 bytes UnionAll                               \n",
              "  SecondOrderCone                    172 bytes DataType                               \n",
              "  SensitivityReport                  196 bytes DataType                               \n",
              "  SkewSymmetricMatrixShape           188 bytes DataType                               \n",
              "  SkewSymmetricMatrixSpace           172 bytes DataType                               \n",
              "  SquareMatrixShape                  188 bytes DataType                               \n",
              "  SymMatrixSpace                     172 bytes DataType                               \n",
              "  SymmetricMatrixShape               188 bytes DataType                               \n",
              "  TIME_LIMIT                           4 bytes MathOptInterface.TerminationStatusCode \n",
              "  TerminationStatusCode              172 bytes DataType                               \n",
              "  UNKNOWN_RESULT_STATUS                4 bytes MathOptInterface.ResultStatusCode      \n",
              "  UnorderedPair                       40 bytes UnionAll                               \n",
              "  UpperBoundRef                        0 bytes typeof(UpperBoundRef)                  \n",
              "  VariableConstrainedOnCreation       80 bytes UnionAll                               \n",
              "  VariableInfo                       160 bytes UnionAll                               \n",
              "  VariableNotOwned                    40 bytes UnionAll                               \n",
              "  VariableRef                        196 bytes DataType                               \n",
              "  VariablesConstrainedOnCreation     120 bytes UnionAll                               \n",
              "  VectorConstraint                   120 bytes UnionAll                               \n",
              "  VectorShape                        172 bytes DataType                               \n",
              "  add_NL_constraint                    0 bytes typeof(add_NL_constraint)              \n",
              "  add_NL_expression                    0 bytes typeof(add_NL_expression)              \n",
              "  add_bridge                           0 bytes typeof(add_bridge)                     \n",
              "  add_constraint                       0 bytes typeof(add_constraint)                 \n",
              "  add_to_expression!                   0 bytes typeof(add_to_expression!)             \n",
              "  add_to_function_constant             0 bytes typeof(add_to_function_constant)       \n",
              "  add_variable                         0 bytes typeof(add_variable)                   \n",
              "  all_constraints                      0 bytes typeof(all_constraints)                \n",
              "  all_variables                        0 bytes typeof(all_variables)                  \n",
              "  backend                              0 bytes typeof(JuMP.backend)                   \n",
              "  barrier_iterations                   0 bytes typeof(barrier_iterations)             \n",
              "  bridge_constraints                   0 bytes typeof(bridge_constraints)             \n",
              "  build_constraint                     0 bytes typeof(build_constraint)               \n",
              "  build_variable                       0 bytes typeof(build_variable)                 \n",
              "  callback_node_status                 0 bytes typeof(callback_node_status)           \n",
              "  callback_value                       0 bytes typeof(callback_value)                 \n",
              "  check_belongs_to_model               0 bytes typeof(check_belongs_to_model)         \n",
              "  coefficient                          0 bytes typeof(coefficient)                    \n",
              "  compute_conflict!                    0 bytes typeof(compute_conflict!)              \n",
              "  constant                             0 bytes typeof(constant)                       \n",
              "  constraint_by_name                   0 bytes typeof(constraint_by_name)             \n",
              "  constraint_object                    0 bytes typeof(constraint_object)              \n",
              "  constraint_ref_with_index            0 bytes typeof(constraint_ref_with_index)      \n",
              "  constraint_string                    0 bytes typeof(constraint_string)              \n",
              "  constraints_string                   0 bytes typeof(constraints_string)             \n",
              "  copy_conflict                        0 bytes typeof(copy_conflict)                  \n",
              "  copy_extension_data                  0 bytes typeof(copy_extension_data)            \n",
              "  copy_model                           0 bytes typeof(copy_model)                     \n",
              "  delete                               0 bytes typeof(delete)                         \n",
              "  delete_lower_bound                   0 bytes typeof(delete_lower_bound)             \n",
              "  delete_upper_bound                   0 bytes typeof(delete_upper_bound)             \n",
              "  direct_model                         0 bytes typeof(direct_model)                   \n",
              "  drop_zeros!                          0 bytes typeof(drop_zeros!)                    \n",
              "  dual                                 0 bytes typeof(dual)                           \n",
              "  dual_objective_value                 0 bytes typeof(dual_objective_value)           \n",
              "  dual_shape                           0 bytes typeof(dual_shape)                     \n",
              "  dual_start_value                     0 bytes typeof(dual_start_value)               \n",
              "  dual_status                          0 bytes typeof(dual_status)                    \n",
              "  error_if_direct_mode                 0 bytes typeof(error_if_direct_mode)           \n",
              "  fix                                  0 bytes typeof(fix)                            \n",
              "  fix_value                            0 bytes typeof(fix_value)                      \n",
              "  function_string                      0 bytes typeof(function_string)                \n",
              "  get_optimizer_attribute              0 bytes typeof(get_optimizer_attribute)        \n",
              "  getdual                              0 bytes typeof(getdual)                        \n",
              "  getobjectivebound                    0 bytes typeof(getobjectivebound)              \n",
              "  getobjectivevalue                    0 bytes typeof(getobjectivevalue)              \n",
              "  getvalue                             0 bytes typeof(getvalue)                       \n",
              "  has_duals                            0 bytes typeof(has_duals)                      \n",
              "  has_lower_bound                      0 bytes typeof(has_lower_bound)                \n",
              "  has_upper_bound                      0 bytes typeof(has_upper_bound)                \n",
              "  has_values                           0 bytes typeof(has_values)                     \n",
              "  in_set_string                        0 bytes typeof(in_set_string)                  \n",
              "  index                                0 bytes typeof(index)                          \n",
              "  is_binary                            0 bytes typeof(is_binary)                      \n",
              "  is_fixed                             0 bytes typeof(is_fixed)                       \n",
              "  is_integer                           0 bytes typeof(is_integer)                     \n",
              "  is_valid                             0 bytes typeof(is_valid)                       \n",
              "  isequal_canonical                    0 bytes typeof(isequal_canonical)              \n",
              "  jump_function                        0 bytes typeof(jump_function)                  \n",
              "  jump_function_type                   0 bytes typeof(jump_function_type)             \n",
              "  latex_formulation                    0 bytes typeof(latex_formulation)              \n",
              "  linear_terms                         0 bytes typeof(linear_terms)                   \n",
              "  linearterms                          0 bytes typeof(linearterms)                    \n",
              "  list_of_constraint_types             0 bytes typeof(list_of_constraint_types)       \n",
              "  lower_bound                          0 bytes typeof(lower_bound)                    \n",
              "  lp_sensitivity_report                0 bytes typeof(lp_sensitivity_report)          \n",
              "  map_coefficients                     0 bytes typeof(map_coefficients)               \n",
              "  map_coefficients_inplace!            0 bytes typeof(map_coefficients_inplace!)      \n",
              "  mode                                 0 bytes typeof(JuMP.mode)                      \n",
              "  model_string                         0 bytes typeof(model_string)                   \n",
              "  moi_function                         0 bytes typeof(moi_function)                   \n",
              "  moi_function_type                    0 bytes typeof(moi_function_type)              \n",
              "  moi_set                              0 bytes typeof(moi_set)                        \n",
              "  name                                 0 bytes typeof(name)                           \n",
              "  nl_constraint_string                 0 bytes typeof(nl_constraint_string)           \n",
              "  nl_expr_string                       0 bytes typeof(nl_expr_string)                 \n",
              "  node_count                           0 bytes typeof(node_count)                     \n",
              "  normalized_coefficient               0 bytes typeof(normalized_coefficient)         \n",
              "  normalized_rhs                       0 bytes typeof(normalized_rhs)                 \n",
              "  num_constraints                      0 bytes typeof(num_constraints)                \n",
              "  num_nl_constraints                   0 bytes typeof(num_nl_constraints)             \n",
              "  num_variables                        0 bytes typeof(num_variables)                  \n",
              "  numnlconstr                          0 bytes typeof(numnlconstr)                    \n",
              "  numvar                               0 bytes typeof(numvar)                         \n",
              "  object_dictionary                    0 bytes typeof(object_dictionary)              \n",
              "  objective_bound                      0 bytes typeof(objective_bound)                \n",
              "  objective_function                   0 bytes typeof(objective_function)             \n",
              "  objective_function_string            0 bytes typeof(objective_function_string)      \n",
              "  objective_function_type              0 bytes typeof(objective_function_type)        \n",
              "  objective_sense                      0 bytes typeof(objective_sense)                \n",
              "  objective_value                      0 bytes typeof(objective_value)                \n",
              "  op_hint                             98 bytes 90-codeunit String                     \n",
              "  operator_to_set                      0 bytes typeof(operator_to_set)                \n",
              "  operator_warn                        0 bytes typeof(operator_warn)                  \n",
              "  optimize!                            0 bytes typeof(optimize!)                      \n",
              "  optimizer_index                      0 bytes typeof(optimizer_index)                \n",
              "  optimizer_with_attributes            0 bytes typeof(optimizer_with_attributes)      \n",
              "  owner_model                          0 bytes typeof(owner_model)                    \n",
              "  parse_SD_constraint                  0 bytes typeof(parse_SD_constraint)            \n",
              "  parse_SD_constraint_expr             0 bytes typeof(parse_SD_constraint_expr)       \n",
              "  parse_constraint                     0 bytes typeof(parse_constraint)               \n",
              "  parse_constraint_call                0 bytes typeof(parse_constraint_call)          \n",
              "  parse_constraint_expr                0 bytes typeof(parse_constraint_expr)          \n",
              "  parse_constraint_head                0 bytes typeof(parse_constraint_head)          \n",
              "  parse_one_operator_constraint        0 bytes typeof(parse_one_operator_constraint)  \n",
              "  parse_one_operator_variable          0 bytes typeof(parse_one_operator_variable)    \n",
              "  parse_ternary_variable               0 bytes typeof(parse_ternary_variable)         \n",
              "  parse_variable                       0 bytes typeof(parse_variable)                 \n",
              "  primal_feasibility_report            0 bytes typeof(primal_feasibility_report)      \n",
              "  primal_status                        0 bytes typeof(primal_status)                  \n",
              "  print_bridge_graph                   0 bytes typeof(print_bridge_graph)             \n",
              "  quad_terms                           0 bytes typeof(quad_terms)                     \n",
              "  raw_status                           0 bytes typeof(raw_status)                     \n",
              "  read_from_file                       0 bytes typeof(read_from_file)                 \n",
              "  reduced_cost                         0 bytes typeof(reduced_cost)                   \n",
              "  register                             0 bytes typeof(register)                       \n",
              "  relative_gap                         0 bytes typeof(relative_gap)                   \n",
              "  relax_integrality                    0 bytes typeof(relax_integrality)              \n",
              "  reshape_set                          0 bytes typeof(reshape_set)                    \n",
              "  reshape_vector                       0 bytes typeof(reshape_vector)                 \n",
              "  result_count                         0 bytes typeof(result_count)                   \n",
              "  reverse_sense                        0 bytes typeof(reverse_sense)                  \n",
              "  sense_to_set                         0 bytes typeof(sense_to_set)                   \n",
              "  set_NL_objective                     0 bytes typeof(set_NL_objective)               \n",
              "  set_binary                           0 bytes typeof(set_binary)                     \n",
              "  set_coefficient                      0 bytes typeof(set_coefficient)                \n",
              "  set_dual_start_value                 0 bytes typeof(set_dual_start_value)           \n",
              "  set_integer                          0 bytes typeof(set_integer)                    \n",
              "  set_lower_bound                      0 bytes typeof(set_lower_bound)                \n",
              "  set_name                             0 bytes typeof(set_name)                       \n",
              "  set_normalized_coefficient           0 bytes typeof(set_normalized_coefficient)     \n",
              "  set_normalized_rhs                   0 bytes typeof(set_normalized_rhs)             \n",
              "  set_objective                        0 bytes typeof(set_objective)                  \n",
              "  set_objective_coefficient            0 bytes typeof(set_objective_coefficient)      \n",
              "  set_objective_function               0 bytes typeof(set_objective_function)         \n",
              "  set_objective_sense                  0 bytes typeof(set_objective_sense)            \n",
              "  set_optimize_hook                    0 bytes typeof(set_optimize_hook)              \n",
              "  set_optimizer                        0 bytes typeof(set_optimizer)                  \n",
              "  set_optimizer_attribute              0 bytes typeof(set_optimizer_attribute)        \n",
              "  set_optimizer_attributes             0 bytes typeof(set_optimizer_attributes)       \n",
              "  set_parameter                        0 bytes typeof(set_parameter)                  \n",
              "  set_parameters                       0 bytes typeof(set_parameters)                 \n",
              "  set_silent                           0 bytes typeof(set_silent)                     \n",
              "  set_start_value                      0 bytes typeof(set_start_value)                \n",
              "  set_time_limit_sec                   0 bytes typeof(set_time_limit_sec)             \n",
              "  set_upper_bound                      0 bytes typeof(set_upper_bound)                \n",
              "  set_value                            0 bytes typeof(set_value)                      \n",
              "  setlowerbound                        0 bytes typeof(setlowerbound)                  \n",
              "  setupperbound                        0 bytes typeof(setupperbound)                  \n",
              "  setvalue                             0 bytes typeof(setvalue)                       \n",
              "  shadow_price                         0 bytes typeof(shadow_price)                   \n",
              "  shape                                0 bytes typeof(JuMP.shape)                     \n",
              "  show_backend_summary                 0 bytes typeof(show_backend_summary)           \n",
              "  show_constraints_summary             0 bytes typeof(show_constraints_summary)       \n",
              "  show_objective_function_summary      0 bytes typeof(show_objective_function_summary)\n",
              "  simplex_iterations                   0 bytes typeof(simplex_iterations)             \n",
              "  solution_summary                     0 bytes typeof(solution_summary)               \n",
              "  solve                                0 bytes typeof(solve)                          \n",
              "  solve_time                           0 bytes typeof(solve_time)                     \n",
              "  solver_name                          0 bytes typeof(solver_name)                    \n",
              "  start_value                          0 bytes typeof(start_value)                    \n",
              "  termination_status                   0 bytes typeof(termination_status)             \n",
              "  time_limit_sec                       0 bytes typeof(time_limit_sec)                 \n",
              "  unfix                                0 bytes typeof(unfix)                          \n",
              "  unregister                           0 bytes typeof(unregister)                     \n",
              "  unsafe_backend                       0 bytes typeof(unsafe_backend)                 \n",
              "  unset_binary                         0 bytes typeof(unset_binary)                   \n",
              "  unset_integer                        0 bytes typeof(unset_integer)                  \n",
              "  unset_silent                         0 bytes typeof(unset_silent)                   \n",
              "  unset_time_limit_sec                 0 bytes typeof(unset_time_limit_sec)           \n",
              "  upper_bound                          0 bytes typeof(upper_bound)                    \n",
              "  value                                0 bytes typeof(JuMP.value)                     \n",
              "  variable_by_name                     0 bytes typeof(variable_by_name)               \n",
              "  variable_ref_type                    0 bytes typeof(variable_ref_type)              \n",
              "  vectorize                            0 bytes typeof(vectorize)                      \n",
              "  with_optimizer                       0 bytes typeof(with_optimizer)                 \n",
              "  writeLP                              0 bytes typeof(writeLP)                        \n",
              "  writeMPS                             0 bytes typeof(writeMPS)                       \n",
              "  write_to_file                        0 bytes typeof(write_to_file)                  "
            ]
          },
          "metadata": {},
          "execution_count": 16
        }
      ]
    },
    {
      "cell_type": "code",
      "source": [
        "using GLPK"
      ],
      "metadata": {
        "id": "_PVxNAa5jUsb"
      },
      "execution_count": null,
      "outputs": []
    },
    {
      "cell_type": "code",
      "source": [
        "model=Model(GLPK.Optimizer)"
      ],
      "metadata": {
        "id": "PwgxXTRgjkzj",
        "outputId": "99d33d00-2f92-4ff1-8edc-de5bd2b8cd75",
        "colab": {
          "base_uri": "https://localhost:8080/"
        }
      },
      "execution_count": null,
      "outputs": [
        {
          "output_type": "execute_result",
          "data": {
            "text/plain": [
              "A JuMP Model\n",
              "Feasibility problem with:\n",
              "Variables: 0\n",
              "Model mode: AUTOMATIC\n",
              "CachingOptimizer state: EMPTY_OPTIMIZER\n",
              "Solver name: GLPK"
            ]
          },
          "metadata": {},
          "execution_count": 45
        }
      ]
    },
    {
      "cell_type": "code",
      "source": [
        "@variable(model, x>=0)\n",
        "@variable(model,y>=0)"
      ],
      "metadata": {
        "id": "B-jxiZTRjpaa",
        "outputId": "497059fd-bd13-43fc-eee9-ca13ea18ca8a",
        "colab": {
          "base_uri": "https://localhost:8080/",
          "height": 38
        }
      },
      "execution_count": null,
      "outputs": [
        {
          "output_type": "execute_result",
          "data": {
            "text/latex": "$$ y $$",
            "text/plain": [
              "y"
            ]
          },
          "metadata": {},
          "execution_count": 46
        }
      ]
    },
    {
      "cell_type": "code",
      "source": [
        "@constraint(model, x + y <= 10)\n",
        "@constraint(model, x-y>=3)\n",
        "@constraint(model,5*x +4*y <=35)"
      ],
      "metadata": {
        "id": "X-N4lYnPk1OE",
        "outputId": "bd02d0c9-7c46-496d-9e05-99bc66b8a5de",
        "colab": {
          "base_uri": "https://localhost:8080/",
          "height": 38
        }
      },
      "execution_count": null,
      "outputs": [
        {
          "output_type": "execute_result",
          "data": {
            "text/latex": "$$ 5 x + 4 y \\leq 35.0 $$",
            "text/plain": [
              "5 x + 4 y ≤ 35.0"
            ]
          },
          "metadata": {},
          "execution_count": 47
        }
      ]
    },
    {
      "cell_type": "code",
      "source": [
        "@objective(model,Max, 5x+ 6y)"
      ],
      "metadata": {
        "id": "NquLbXFQl3tg",
        "outputId": "9b924247-7ca5-4f2d-a323-3c1979c5f85d",
        "colab": {
          "base_uri": "https://localhost:8080/",
          "height": 38
        }
      },
      "execution_count": null,
      "outputs": [
        {
          "output_type": "execute_result",
          "data": {
            "text/latex": "$$ 5 x + 6 y $$",
            "text/plain": [
              "5 x + 6 y"
            ]
          },
          "metadata": {},
          "execution_count": 49
        }
      ]
    },
    {
      "cell_type": "code",
      "source": [
        "@show model"
      ],
      "metadata": {
        "id": "l3uOPSdmmGYS",
        "outputId": "75cfecea-79d5-4f01-9f50-7d21b46ae569",
        "colab": {
          "base_uri": "https://localhost:8080/"
        }
      },
      "execution_count": null,
      "outputs": [
        {
          "output_type": "stream",
          "name": "stdout",
          "text": [
            "model = A JuMP Model\n",
            "Maximization problem with:\n",
            "Variables: 2\n",
            "Objective function type: AffExpr\n",
            "`AffExpr`-in-`MathOptInterface.GreaterThan{Float64}`: 1 constraint\n",
            "`AffExpr`-in-`MathOptInterface.LessThan{Float64}`: 2 constraints\n",
            "`VariableRef`-in-`MathOptInterface.GreaterThan{Float64}`: 2 constraints\n",
            "Model mode: AUTOMATIC\n",
            "CachingOptimizer state: EMPTY_OPTIMIZER\n",
            "Solver name: GLPK\n",
            "Names registered in the model: x, y\n"
          ]
        },
        {
          "output_type": "execute_result",
          "data": {
            "text/plain": [
              "A JuMP Model\n",
              "Maximization problem with:\n",
              "Variables: 2\n",
              "Objective function type: AffExpr\n",
              "`AffExpr`-in-`MathOptInterface.GreaterThan{Float64}`: 1 constraint\n",
              "`AffExpr`-in-`MathOptInterface.LessThan{Float64}`: 2 constraints\n",
              "`VariableRef`-in-`MathOptInterface.GreaterThan{Float64}`: 2 constraints\n",
              "Model mode: AUTOMATIC\n",
              "CachingOptimizer state: EMPTY_OPTIMIZER\n",
              "Solver name: GLPK\n",
              "Names registered in the model: x, y"
            ]
          },
          "metadata": {},
          "execution_count": 50
        }
      ]
    },
    {
      "cell_type": "code",
      "source": [
        "optimize!(model)"
      ],
      "metadata": {
        "id": "JjvsioYymPrD"
      },
      "execution_count": null,
      "outputs": []
    },
    {
      "cell_type": "code",
      "source": [
        "termination_status(model)"
      ],
      "metadata": {
        "id": "idMg6TlemWau",
        "outputId": "21b40fb6-c7cf-4d73-c73d-5736a0bcecea",
        "colab": {
          "base_uri": "https://localhost:8080/"
        }
      },
      "execution_count": null,
      "outputs": [
        {
          "output_type": "execute_result",
          "data": {
            "text/plain": [
              "OPTIMAL::TerminationStatusCode = 1"
            ]
          },
          "metadata": {},
          "execution_count": 55
        }
      ]
    },
    {
      "cell_type": "code",
      "source": [
        "display(typeof(MOI.OPTIMAL))"
      ],
      "metadata": {
        "id": "B6u0G4kNmhTc",
        "outputId": "9b8679bf-444d-4ad0-b68b-d0debdd814d5",
        "colab": {
          "base_uri": "https://localhost:8080/",
          "height": 468
        }
      },
      "execution_count": null,
      "outputs": [
        {
          "output_type": "display_data",
          "data": {
            "text/plain": [
              "Enum MathOptInterface.TerminationStatusCode:\n",
              "OPTIMIZE_NOT_CALLED = 0\n",
              "OPTIMAL = 1\n",
              "INFEASIBLE = 2\n",
              "DUAL_INFEASIBLE = 3\n",
              "LOCALLY_SOLVED = 4\n",
              "LOCALLY_INFEASIBLE = 5\n",
              "INFEASIBLE_OR_UNBOUNDED = 6\n",
              "ALMOST_OPTIMAL = 7\n",
              "ALMOST_INFEASIBLE = 8\n",
              "ALMOST_DUAL_INFEASIBLE = 9\n",
              "ALMOST_LOCALLY_SOLVED = 10\n",
              "ITERATION_LIMIT = 11\n",
              "TIME_LIMIT = 12\n",
              "NODE_LIMIT = 13\n",
              "SOLUTION_LIMIT = 14\n",
              "MEMORY_LIMIT = 15\n",
              "OBJECTIVE_LIMIT = 16\n",
              "NORM_LIMIT = 17\n",
              "OTHER_LIMIT = 18\n",
              "SLOW_PROGRESS = 19\n",
              "NUMERICAL_ERROR = 20\n",
              "INVALID_MODEL = 21\n",
              "INVALID_OPTION = 22\n",
              "INTERRUPTED = 23\n",
              "OTHER_ERROR = 24"
            ]
          },
          "metadata": {}
        }
      ]
    },
    {
      "cell_type": "code",
      "source": [
        "@show objective_value(model)"
      ],
      "metadata": {
        "id": "Znsp45Yim2nQ",
        "outputId": "49c48abb-efdc-4481-e5fc-76a581fca4d4",
        "colab": {
          "base_uri": "https://localhost:8080/"
        }
      },
      "execution_count": null,
      "outputs": [
        {
          "output_type": "stream",
          "name": "stdout",
          "text": [
            "objective_value(model) = 39.44444444444444\n"
          ]
        },
        {
          "output_type": "execute_result",
          "data": {
            "text/plain": [
              "39.44444444444444"
            ]
          },
          "metadata": {},
          "execution_count": 58
        }
      ]
    }
  ]
}